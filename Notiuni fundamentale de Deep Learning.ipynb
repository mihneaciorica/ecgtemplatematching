{
  "nbformat": 4,
  "nbformat_minor": 0,
  "metadata": {
    "colab": {
      "provenance": [],
      "authorship_tag": "ABX9TyNhqEGbdEqwqJFHG03cdtW0",
      "include_colab_link": true
    },
    "kernelspec": {
      "name": "python3",
      "display_name": "Python 3"
    },
    "language_info": {
      "name": "python"
    }
  },
  "cells": [
    {
      "cell_type": "markdown",
      "metadata": {
        "id": "view-in-github",
        "colab_type": "text"
      },
      "source": [
        "<a href=\"https://colab.research.google.com/github/mihneaciorica/ecgtemplatematching/blob/main/Notiuni%20fundamentale%20de%20Deep%20Learning.ipynb\" target=\"_parent\"><img src=\"https://colab.research.google.com/assets/colab-badge.svg\" alt=\"Open In Colab\"/></a>"
      ]
    },
    {
      "cell_type": "markdown",
      "source": [
        "5.4 Introducere in Deep Learning\n",
        "\n",
        "# Ghid de instalare -> https://www.digitalocean.com/community/tutorials/how-to-install-and-use-pytorch\n",
        "\n",
        "# Clasificare cu PyTorch -> https://www.cs.toronto.edu/~lczhang/360/lec/w03/nn.html\n"
      ],
      "metadata": {
        "id": "EuAzb8hDEEjG"
      }
    },
    {
      "cell_type": "code",
      "source": [
        "# Aparent in Google Colab nu trebuie instalt PyTorch in environment\n",
        "# pip install torch torchvision\n",
        "#Putem deci importa direct pachetele\n",
        "\n",
        "\n",
        "import torch   # https://pypi.org/project/torch/\n",
        "import torch.nn as nn\n",
        "import torch.nn.functional as F"
      ],
      "metadata": {
        "id": "3lCkbYKDExiH"
      },
      "execution_count": 2,
      "outputs": []
    },
    {
      "cell_type": "code",
      "execution_count": 3,
      "metadata": {
        "colab": {
          "base_uri": "https://localhost:8080/"
        },
        "id": "yPEFBeQzECQ_",
        "outputId": "6f95bafb-9208-403d-a76e-596e987dd440"
      },
      "outputs": [
        {
          "output_type": "stream",
          "name": "stdout",
          "text": [
            "tensor(0.)\n"
          ]
        }
      ],
      "source": [
        "# Create a ReLU function with PyTorch\n",
        "relu_pytorch = nn.ReLU()\n",
        "\n",
        "# Apply your ReLU function on x, and calculate gradients\n",
        "x = torch.tensor(-1.0, requires_grad=True)\n",
        "y = relu_pytorch(x)\n",
        "y.backward()\n",
        "\n",
        "# Print the gradient of the ReLU function for x\n",
        "gradient = x.grad\n",
        "print(gradient)"
      ]
    },
    {
      "cell_type": "markdown",
      "source": [],
      "metadata": {
        "id": "ZaONqR0UEDyj"
      }
    }
  ]
}